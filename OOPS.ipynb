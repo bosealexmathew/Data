{
 "cells": [
  {
   "cell_type": "code",
   "execution_count": 1,
   "id": "371f5956",
   "metadata": {},
   "outputs": [
    {
     "name": "stdout",
     "output_type": "stream",
     "text": [
      "test value after do local:default\n"
     ]
    }
   ],
   "source": [
    "#Sample scope \n",
    "\n",
    "#look for python coding standard google\n",
    "\n",
    "def check_scope():\n",
    "    def do_local():\n",
    "        test=\"Local test\"\n",
    "        \n",
    "    def do_non_local():\n",
    "        test =\"non local test\"\n",
    "        \n",
    "    def do_global():\n",
    "        test=\"global test\"\n",
    "        \n",
    "    test=\"default\"\n",
    "    do_local()\n",
    "    print(\"test value after do local:\"+test)\n",
    "    \n",
    "check_scope()\n",
    "    "
   ]
  },
  {
   "cell_type": "code",
   "execution_count": 2,
   "id": "5265073b",
   "metadata": {},
   "outputs": [
    {
     "name": "stdout",
     "output_type": "stream",
     "text": [
      "test value after do local:default\n"
     ]
    }
   ],
   "source": [
    "def check_scope():\n",
    "    def do_local():\n",
    "        test=\"Local test\"\n",
    "        \n",
    "    def do_non_local():\n",
    "        test =\"non local test\"\n",
    "        \n",
    "    def do_global():\n",
    "        test=\"global test\"\n",
    "        \n",
    "    test=\"default\"\n",
    "    do_local()\n",
    "    print(\"test value after do local:\"+test)\n",
    "    \n",
    "check_scope()"
   ]
  },
  {
   "cell_type": "code",
   "execution_count": 3,
   "id": "c5fa42be",
   "metadata": {},
   "outputs": [
    {
     "name": "stdout",
     "output_type": "stream",
     "text": [
      "HelloAlex Mathew\n"
     ]
    }
   ],
   "source": [
    "class MySampleClass:\n",
    "    def hello(self,n):\n",
    "        print('Hello'+n)\n",
    "        \n",
    "x=MySampleClass()\n",
    "name=\"Alex Mathew\"\n",
    "x.hello(name)"
   ]
  },
  {
   "cell_type": "code",
   "execution_count": 18,
   "id": "48e81440",
   "metadata": {},
   "outputs": [],
   "source": [
    "class MySampleClass:\n",
    "    def hello(self,n):\n",
    "        self.name=n\n",
    "    def printname(self):\n",
    "        print(self.name)\n",
    "        print('Hello'+n)\n",
    "        \n",
    "x=MySampleClass()\n",
    "name=\"Alex Mathew\"\n",
    "x.hello(name)"
   ]
  },
  {
   "cell_type": "code",
   "execution_count": 20,
   "id": "69294007",
   "metadata": {},
   "outputs": [
    {
     "ename": "TypeError",
     "evalue": "Cross() takes no arguments",
     "output_type": "error",
     "traceback": [
      "\u001b[1;31m---------------------------------------------------------------------------\u001b[0m",
      "\u001b[1;31mTypeError\u001b[0m                                 Traceback (most recent call last)",
      "\u001b[1;32m<ipython-input-20-16af930b00c5>\u001b[0m in \u001b[0;36m<module>\u001b[1;34m\u001b[0m\n\u001b[0;32m     16\u001b[0m \u001b[1;33m\u001b[0m\u001b[0m\n\u001b[0;32m     17\u001b[0m \u001b[1;33m\u001b[0m\u001b[0m\n\u001b[1;32m---> 18\u001b[1;33m \u001b[0mx\u001b[0m\u001b[1;33m=\u001b[0m\u001b[0mCross\u001b[0m\u001b[1;33m(\u001b[0m\u001b[1;34m\"Dilshad\"\u001b[0m\u001b[1;33m,\u001b[0m\u001b[1;36m21\u001b[0m\u001b[1;33m,\u001b[0m\u001b[1;34m\"Calicut\"\u001b[0m\u001b[1;33m)\u001b[0m\u001b[1;33m\u001b[0m\u001b[1;33m\u001b[0m\u001b[0m\n\u001b[0m\u001b[0;32m     19\u001b[0m \u001b[0my\u001b[0m\u001b[1;33m=\u001b[0m\u001b[0mCrpss\u001b[0m\u001b[1;33m(\u001b[0m\u001b[0mFaiza\u001b[0m\u001b[1;33m,\u001b[0m\u001b[1;36m26\u001b[0m\u001b[1;33m,\u001b[0m\u001b[0mErnakulam\u001b[0m\u001b[1;33m)\u001b[0m\u001b[1;33m\u001b[0m\u001b[1;33m\u001b[0m\u001b[0m\n\u001b[0;32m     20\u001b[0m \u001b[1;33m\u001b[0m\u001b[0m\n",
      "\u001b[1;31mTypeError\u001b[0m: Cross() takes no arguments"
     ]
    }
   ],
   "source": [
    "class Cross:\n",
    "    def __int__(name,age,place):\n",
    "        self.name=name\n",
    "        self.age\n",
    "        self.place=place\n",
    "    def add_age(self):\n",
    "        self.age=self.age+1\n",
    "        \n",
    "    def relocate(self,place):\n",
    "        self.place=place\n",
    "\n",
    "    def relocate(self,place):\n",
    "        print(\"Name: \"+str(self.name))\n",
    "        print(\"Age:\"+int(self.age))\n",
    "        print(\"Place: \"+ str(self.place))\n",
    "        \n",
    "        \n",
    "x=Cross(\"Dilshad\",21,\"Calicut\")\n",
    "y=Crpss(Faiza,26,Ernakulam)\n",
    "        \n",
    "                       \n",
    "x.add_age()\n",
    "                        \n",
    "y.add_age()\n",
    "\n",
    "x.display()\n",
    "\n",
    "y.display()"
   ]
  },
  {
   "cell_type": "code",
   "execution_count": null,
   "id": "44290893",
   "metadata": {},
   "outputs": [],
   "source": []
  }
 ],
 "metadata": {
  "kernelspec": {
   "display_name": "Python 3",
   "language": "python",
   "name": "python3"
  },
  "language_info": {
   "codemirror_mode": {
    "name": "ipython",
    "version": 3
   },
   "file_extension": ".py",
   "mimetype": "text/x-python",
   "name": "python",
   "nbconvert_exporter": "python",
   "pygments_lexer": "ipython3",
   "version": "3.8.8"
  }
 },
 "nbformat": 4,
 "nbformat_minor": 5
}
