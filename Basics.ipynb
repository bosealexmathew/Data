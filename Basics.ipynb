{
 "cells": [
  {
   "cell_type": "code",
   "execution_count": null,
   "id": "806bf004",
   "metadata": {},
   "outputs": [],
   "source": [
    "a=input(\"Enter the Number\")\n",
    "b=input(\"Second Number\")\n",
    "print('Hi,First number'+ a+ \"second value is\"+b)\n",
    "\n",
    "sum =(int(a)+int(b))\n",
    "\n",
    "print(\"result is\"+ str(sum))\n",
    "#info(a)"
   ]
  },
  {
   "cell_type": "code",
   "execution_count": 4,
   "id": "6c7fb053",
   "metadata": {},
   "outputs": [
    {
     "name": "stdout",
     "output_type": "stream",
     "text": [
      "Next\n",
      "line\tnext\ttab\\\n"
     ]
    }
   ],
   "source": [
    "print(\"Next\\nline\\tnext\\ttab\\\\\")"
   ]
  },
  {
   "cell_type": "code",
   "execution_count": 8,
   "id": "327f06bb",
   "metadata": {},
   "outputs": [
    {
     "name": "stdout",
     "output_type": "stream",
     "text": [
      "testtesttest\n"
     ]
    }
   ],
   "source": [
    "x=\"test\"\n",
    "x=3*x\n",
    "print(x)"
   ]
  },
  {
   "cell_type": "code",
   "execution_count": 5,
   "id": "571a0fe2",
   "metadata": {},
   "outputs": [
    {
     "data": {
      "text/plain": [
       "'02468'"
      ]
     },
     "execution_count": 5,
     "metadata": {},
     "output_type": "execute_result"
    }
   ],
   "source": [
    "x=\"0123456789\"\n",
    "x[::2]"
   ]
  },
  {
   "cell_type": "code",
   "execution_count": 9,
   "id": "24f1e713",
   "metadata": {},
   "outputs": [
    {
     "name": "stdout",
     "output_type": "stream",
     "text": [
      " Michael Jackson \\ is the best\n"
     ]
    }
   ],
   "source": [
    "print(r\" Michael Jackson \\ is the best\" )"
   ]
  },
  {
   "cell_type": "code",
   "execution_count": 6,
   "id": "aa74ce87",
   "metadata": {},
   "outputs": [
    {
     "data": {
      "text/plain": [
       "'1357'"
      ]
     },
     "execution_count": 6,
     "metadata": {},
     "output_type": "execute_result"
    }
   ],
   "source": [
    "x=\"0123456789\"\n",
    "x[1:8:2]"
   ]
  },
  {
   "cell_type": "code",
   "execution_count": 8,
   "id": "a5371f7a",
   "metadata": {},
   "outputs": [
    {
     "ename": "SyntaxError",
     "evalue": "invalid syntax (<ipython-input-8-bff8c01f162c>, line 5)",
     "output_type": "error",
     "traceback": [
      "\u001b[1;36m  File \u001b[1;32m\"<ipython-input-8-bff8c01f162c>\"\u001b[1;36m, line \u001b[1;32m5\u001b[0m\n\u001b[1;33m    def newloop(mystring)\u001b[0m\n\u001b[1;37m                            ^\u001b[0m\n\u001b[1;31mSyntaxError\u001b[0m\u001b[1;31m:\u001b[0m invalid syntax\n"
     ]
    }
   ],
   "source": [
    "mystring= input()\n",
    "\n",
    "mylist=['Math','Sci','SS','Che']\n",
    "\n",
    "def newloop(mystring)   \n",
    "\n",
    "if mystring in mylist:\n",
    "\n",
    "    print(mystring +\" Tutorial\")\n",
    "    \n",
    "else:\n",
    "    mystring=mylist[1] + 1   \n",
    "    \n",
    "newloop()"
   ]
  },
  {
   "cell_type": "code",
   "execution_count": 9,
   "id": "2c6f0e1d",
   "metadata": {},
   "outputs": [
    {
     "name": "stdout",
     "output_type": "stream",
     "text": [
      "Enter Numberdd\n"
     ]
    },
    {
     "ename": "ValueError",
     "evalue": "invalid literal for int() with base 10: 'dd'",
     "output_type": "error",
     "traceback": [
      "\u001b[1;31m---------------------------------------------------------------------------\u001b[0m",
      "\u001b[1;31mValueError\u001b[0m                                Traceback (most recent call last)",
      "\u001b[1;32m<ipython-input-9-b1aecbd662ec>\u001b[0m in \u001b[0;36m<module>\u001b[1;34m\u001b[0m\n\u001b[1;32m----> 1\u001b[1;33m \u001b[0mnumber1\u001b[0m \u001b[1;33m=\u001b[0m\u001b[0mint\u001b[0m\u001b[1;33m(\u001b[0m\u001b[0minput\u001b[0m\u001b[1;33m(\u001b[0m\u001b[1;34m\"Enter Number\"\u001b[0m\u001b[1;33m)\u001b[0m\u001b[1;33m)\u001b[0m\u001b[1;33m\u001b[0m\u001b[1;33m\u001b[0m\u001b[0m\n\u001b[0m\u001b[0;32m      2\u001b[0m \u001b[0mnumber2\u001b[0m\u001b[1;33m=\u001b[0m\u001b[0mint\u001b[0m\u001b[1;33m(\u001b[0m\u001b[0minput\u001b[0m\u001b[1;33m(\u001b[0m\u001b[1;33m)\u001b[0m\u001b[1;33m)\u001b[0m\u001b[1;33m\u001b[0m\u001b[1;33m\u001b[0m\u001b[0m\n\u001b[0;32m      3\u001b[0m \u001b[0mnumber3\u001b[0m\u001b[1;33m=\u001b[0m\u001b[0mint\u001b[0m\u001b[1;33m(\u001b[0m\u001b[0minput\u001b[0m\u001b[1;33m(\u001b[0m\u001b[1;33m)\u001b[0m\u001b[1;33m)\u001b[0m\u001b[1;33m\u001b[0m\u001b[1;33m\u001b[0m\u001b[0m\n\u001b[0;32m      4\u001b[0m \u001b[0maverage\u001b[0m\u001b[1;33m=\u001b[0m\u001b[1;33m(\u001b[0m\u001b[0mint\u001b[0m\u001b[1;33m(\u001b[0m\u001b[0mnumber1\u001b[0m\u001b[1;33m)\u001b[0m\u001b[1;33m+\u001b[0m \u001b[0mint\u001b[0m\u001b[1;33m(\u001b[0m\u001b[0mnumber2\u001b[0m\u001b[1;33m)\u001b[0m\u001b[1;33m+\u001b[0m\u001b[0mint\u001b[0m\u001b[1;33m(\u001b[0m\u001b[0mnumber3\u001b[0m\u001b[1;33m)\u001b[0m\u001b[1;33m/\u001b[0m\u001b[1;36m3\u001b[0m\u001b[1;33m)\u001b[0m\u001b[1;33m\u001b[0m\u001b[1;33m\u001b[0m\u001b[0m\n\u001b[0;32m      5\u001b[0m \u001b[0mprint\u001b[0m\u001b[1;33m(\u001b[0m\u001b[0maverage\u001b[0m\u001b[1;33m)\u001b[0m\u001b[1;33m\u001b[0m\u001b[1;33m\u001b[0m\u001b[0m\n",
      "\u001b[1;31mValueError\u001b[0m: invalid literal for int() with base 10: 'dd'"
     ]
    }
   ],
   "source": [
    "number1 =int(input(\"Enter Number\"))\n",
    "number2=int(input())\n",
    "number3=int(input())\n",
    "average=(int(number1)+ int(number2)+int(number3)/3)\n",
    "print(average)"
   ]
  },
  {
   "cell_type": "code",
   "execution_count": null,
   "id": "408ef8c1",
   "metadata": {},
   "outputs": [],
   "source": [
    "a=int(input(\"Enter the number\"))\n",
    "b=20\n",
    "print(type(a))\n",
    "print(type(b))\n",
    "t=a\n",
    "a=b\n",
    "b=t\n",
    "print(\"First Number \"+str(a) + \"second Number\"+str(b))\n"
   ]
  },
  {
   "cell_type": "code",
   "execution_count": 10,
   "id": "1e542c61",
   "metadata": {},
   "outputs": [
    {
     "name": "stdout",
     "output_type": "stream",
     "text": [
      "True\n"
     ]
    }
   ],
   "source": [
    "A = (3,4,5)\n",
    "if A[1] == 8/2:\n",
    "    print('True')\n",
    "else:\n",
    "    print('False')"
   ]
  },
  {
   "cell_type": "code",
   "execution_count": 11,
   "id": "05699bef",
   "metadata": {},
   "outputs": [
    {
     "name": "stdout",
     "output_type": "stream",
     "text": [
      "\n",
      "B\n",
      "CC\n",
      "DDD\n",
      "EEEE\n",
      "FFFFF\n",
      "GGGGGG\n"
     ]
    }
   ],
   "source": [
    "A = 'ABCDEFG'\n",
    "\n",
    "for i in range(len(A)):\n",
    "    print(A[i]*i)"
   ]
  },
  {
   "cell_type": "code",
   "execution_count": null,
   "id": "dafe0308",
   "metadata": {},
   "outputs": [],
   "source": [
    "a = \"\"\"Lorem ipsum dolor sit amet,\n",
    "consectetur adipiscing elit,\n",
    "sed do eiusmod tempor incididunt\n",
    "ut labore et dolore magna aliqua.\"\"\"\n",
    "print(a)\n",
    "\n"
   ]
  },
  {
   "cell_type": "code",
   "execution_count": null,
   "id": "c974e95f",
   "metadata": {},
   "outputs": [],
   "source": [
    "a=\"12345 6789 he list\"\n",
    "print(a[:10])"
   ]
  },
  {
   "cell_type": "code",
   "execution_count": null,
   "id": "e657fb8a",
   "metadata": {},
   "outputs": [],
   "source": [
    "for x in \"Alex Mathew\":\n",
    "  print(x)"
   ]
  },
  {
   "cell_type": "code",
   "execution_count": null,
   "id": "6c171d59",
   "metadata": {},
   "outputs": [],
   "source": [
    "txt = \"The best things in life are free!\"\n",
    "print(\"free\" in txt)"
   ]
  },
  {
   "cell_type": "code",
   "execution_count": null,
   "id": "ff59eabd",
   "metadata": {},
   "outputs": [],
   "source": [
    "txt = \"The best things in life are free!\"\n",
    "if \"free\" in txt:\n",
    "  print(\"Yes, 'free' is present.\")"
   ]
  },
  {
   "cell_type": "code",
   "execution_count": null,
   "id": "9351452e",
   "metadata": {},
   "outputs": [],
   "source": [
    "txt = \"The best things in life are free!\"\n",
    "print(\"expensive\" not in txt)"
   ]
  },
  {
   "cell_type": "code",
   "execution_count": null,
   "id": "01ac272f",
   "metadata": {},
   "outputs": [],
   "source": [
    "txt = \"The best things in life are free!\"\n",
    "if \"expensive\" not in txt:\n",
    "  print(\"No, 'expensive' is NOT present.\")"
   ]
  }
 ],
 "metadata": {
  "kernelspec": {
   "display_name": "Python 3",
   "language": "python",
   "name": "python3"
  },
  "language_info": {
   "codemirror_mode": {
    "name": "ipython",
    "version": 3
   },
   "file_extension": ".py",
   "mimetype": "text/x-python",
   "name": "python",
   "nbconvert_exporter": "python",
   "pygments_lexer": "ipython3",
   "version": "3.8.8"
  }
 },
 "nbformat": 4,
 "nbformat_minor": 5
}
